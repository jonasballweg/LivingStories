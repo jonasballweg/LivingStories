{
 "cells": [
  {
   "cell_type": "markdown",
   "metadata": {},
   "source": [
    "# Imports"
   ]
  },
  {
   "cell_type": "code",
   "execution_count": 2,
   "metadata": {},
   "outputs": [],
   "source": [
    "import asyncio\n",
    "from autogen_agentchat.agents import AssistantAgent\n",
    "from autogen_agentchat.base import TaskResult\n",
    "from autogen_agentchat.conditions import ExternalTermination, TextMentionTermination\n",
    "from autogen_agentchat.teams import RoundRobinGroupChat\n",
    "from autogen_agentchat.ui import Console\n",
    "from autogen_core import CancellationToken\n",
    "from autogen_ext.models.openai import OpenAIChatCompletionClient\n"
   ]
  },
  {
   "cell_type": "code",
   "execution_count": 3,
   "metadata": {},
   "outputs": [],
   "source": [
    "api_key = \"xxxxx\""
   ]
  },
  {
   "cell_type": "code",
   "execution_count": 4,
   "metadata": {},
   "outputs": [],
   "source": [
    "# Create an OpenAI model client.\n",
    "model_client = OpenAIChatCompletionClient(\n",
    "    model=\"gpt-4o-mini\",\n",
    "    api_key=api_key, # Optional if you have an OPENAI_API_KEY env variable set.\n",
    ")\n",
    "\n",
    "# Create the primary agent.\n",
    "primary_agent = AssistantAgent(\n",
    "    \"primary\",\n",
    "    model_client=model_client,\n",
    "    system_message=\"You are a creative story generator specialized in language learning. Based on the user's language proficiency level, generate engaging and educational stories that adjust vocabulary and grammar complexity accordingly. Include contextual hints and explanations to aid understanding, and either generate a story or continue to write the story as instructed.\"\n",
    ")\n",
    "\n",
    "\n",
    "# Create the critic agent.\n",
    "critic_agent = AssistantAgent(\n",
    "    \"critic\",\n",
    "    model_client=model_client,\n",
    "    system_message=\"Provide constructive feedback on whether the wording used in the story is easy enough to understand for users, taking into account the user's language proficiency and the possibility that this may not be their first language. Respond with 'APPROVE' only when the feedback recommendations are fully addressed.\",\n",
    ")\n",
    "\n",
    "# Define a termination condition that stops the task if the critic approves.\n",
    "text_termination = TextMentionTermination(\"APPROVE\")\n",
    "\n",
    "# Create a team with the primary and critic agents.\n",
    "team = RoundRobinGroupChat([primary_agent, critic_agent], termination_condition=text_termination)"
   ]
  },
  {
   "cell_type": "code",
   "execution_count": 5,
   "metadata": {},
   "outputs": [],
   "source": [
    "async def generate_story(language_level, language):\n",
    "    prompt = f\"Generate a story in {language} suitable for a language learner at level {language_level}. Make sure the story includes contextual hints and explanations to aid understanding.\"\n",
    "    print(prompt)\n",
    "    result = await team.run(task = prompt)\n",
    "    # result = result.close()\n",
    "    return result"
   ]
  },
  {
   "cell_type": "code",
   "execution_count": 6,
   "metadata": {},
   "outputs": [
    {
     "name": "stdout",
     "output_type": "stream",
     "text": [
      "Generate a story in Spanish suitable for a language learner at level A1. Make sure the story includes contextual hints and explanations to aid understanding.\n",
      "TaskResult(messages=[TextMessage(source='user', models_usage=None, content='Generate a story in Spanish suitable for a language learner at level A1. Make sure the story includes contextual hints and explanations to aid understanding.', type='TextMessage'), TextMessage(source='primary', models_usage=RequestUsage(prompt_tokens=95, completion_tokens=522), content='**Título: El Día de la Fiesta**\\n\\n**Contexto:** Esta historia está sobre dos amigos que preparan una fiesta. Aprenderás vocabulario relacionado con fiestas y acciones simples.\\n\\n---\\n\\nEra un día soleado. **(Era = It was, un día soleado = a sunny day)** \\n\\nSantiago y María son amigos. Ellos quieren hacer una fiesta. **(Ellos = They, hacer = to have/make)** \\n\\nMaría dice: \"¡Vamos a invitar a nuestros amigos!\" **(invitar = to invite, amigos = friends)** Santiago responde: \"Sí, ¡buena idea!\"\\n\\nPrimero, ellos necesitan decoraciones. **(decoraciones = decorations)** Santiago va a la tienda. María se queda en casa. **(se queda = stays, en casa = at home)**\\n\\nEn la tienda, Santiago compra globos y una piñata. **(comprar = to buy, globos = balloons, piñata = a traditional party decoration)** \\n\\n**(Nota: Una piñata es un objeto que está lleno de dulces y se rompe en las fiestas. Es divertido!)**\\n\\nDespués, Santiago regresa a casa. María dice: \"¡Qué bien! Ahora necesitamos comida.\" **(qué bien = how good)** \\n\\nEllos preparan pizza y pastel. **(preparar = to prepare, pizza = pizza, pastel = cake)** \\n\\nLos amigos llegan a las seis de la tarde. **(llegan = arrive, seis de la tarde = six in the afternoon)** Todos están felices. \\n\\nDanzan y juegan con la piñata. **(Danzan = They dance, juegan = they play)** Cuando la piñata se rompe, todos gritan: \"¡Dulces!\" **(gritan = shout, dulces = candies)** \\n\\n**(Nota: El momento de romper la piñata es muy emocionante y divertido.)**\\n\\nAl final de la fiesta, todos dicen: \"¡Gracias!\" **(Gracias = Thank you)** Santiago y María están contentos. **(están contentos = are happy)** \\n\\n**Fin.**\\n\\n---\\n\\n**Vocabulario Clave:**\\n- Fiesta = Party\\n- Amigos = Friends\\n- Comida = Food\\n- Dulces = Sweets\\n- Jugar = To play\\n- Decoraciones = Decorations\\n\\n**Recuerda:** Las fiestas son momentos para compartir y divertirse con amigos. Puedes usar este vocabulario en tus próximas celebraciones. ¡Practica y diviértete!', type='TextMessage'), TextMessage(source='critic', models_usage=RequestUsage(prompt_tokens=621, completion_tokens=333), content='The story titled \"El Día de la Fiesta\" is well-constructed for a language learner at A1 level. The simplicity of wording and sentence structure is appropriate for beginners, and the inclusion of contextual hints and explanations enhances understanding. Here are some specific feedback recommendations to further improve clarity for users with varying language proficiency:\\n\\n1. **Vocabulary Explanations:** The explanations provided for specific words and phrases are beneficial, but adding a few more common terms used in the narrative could help reinforce the learning. For example, explaining \"preparar\" in more detail could be helpful.\\n\\n2. **Visual Hints:** Including a small illustration or image associated with key vocabulary (like balloons, pizza, or the piñata) could enhance comprehension, especially useful for users who may struggle with language but can benefit from visual context.\\n\\n3. **Repetition of Key Phrases:** Repeating some key phrases or vocabulary in different contexts or sentences within the story could reinforce learning. For example, mentioning \"comida\" with an example of another type of food could support vocabulary retention.\\n\\n4. **Shorter Sentences:** While the sentences are mostly simple, breaking down longer sentences further can assist very new learners. For example, “María se queda en casa” could be split into “María está en casa. Ella se queda aquí.”\\n\\n5. **Cultural Notes:** Providing additional cultural context about why a piñata is used or more details about typical foods served at parties in Spanish-speaking countries could enrich the educational aspect of the story.\\n\\nBy addressing these recommendations, the story will be even more accessible and engaging for A1-level learners. \\n\\nAPPROVE', type='TextMessage')], stop_reason=\"Text 'APPROVE' mentioned\")\n"
     ]
    }
   ],
   "source": [
    "# Assuming generate_story is an async function\n",
    "result = await generate_story(\"A1\", \"Spanish\")\n",
    "print(result)\n"
   ]
  },
  {
   "cell_type": "code",
   "execution_count": 7,
   "metadata": {},
   "outputs": [
    {
     "name": "stdout",
     "output_type": "stream",
     "text": [
      "**Título: El Día de la Fiesta**\n",
      "\n",
      "**Contexto:** Esta historia está sobre dos amigos que preparan una fiesta. Aprenderás vocabulario relacionado con fiestas y acciones simples.\n",
      "\n",
      "---\n",
      "\n",
      "Era un día soleado. **(Era = It was, un día soleado = a sunny day)** \n",
      "\n",
      "Santiago y María son amigos. Ellos quieren hacer una fiesta. **(Ellos = They, hacer = to have/make)** \n",
      "\n",
      "María dice: \"¡Vamos a invitar a nuestros amigos!\" **(invitar = to invite, amigos = friends)** Santiago responde: \"Sí, ¡buena idea!\"\n",
      "\n",
      "Primero, ellos necesitan decoraciones. **(decoraciones = decorations)** Santiago va a la tienda. María se queda en casa. **(se queda = stays, en casa = at home)**\n",
      "\n",
      "En la tienda, Santiago compra globos y una piñata. **(comprar = to buy, globos = balloons, piñata = a traditional party decoration)** \n",
      "\n",
      "**(Nota: Una piñata es un objeto que está lleno de dulces y se rompe en las fiestas. Es divertido!)**\n",
      "\n",
      "Después, Santiago regresa a casa. María dice: \"¡Qué bien! Ahora necesitamos comida.\" **(qué bien = how good)** \n",
      "\n",
      "Ellos preparan pizza y pastel. **(preparar = to prepare, pizza = pizza, pastel = cake)** \n",
      "\n",
      "Los amigos llegan a las seis de la tarde. **(llegan = arrive, seis de la tarde = six in the afternoon)** Todos están felices. \n",
      "\n",
      "Danzan y juegan con la piñata. **(Danzan = They dance, juegan = they play)** Cuando la piñata se rompe, todos gritan: \"¡Dulces!\" **(gritan = shout, dulces = candies)** \n",
      "\n",
      "**(Nota: El momento de romper la piñata es muy emocionante y divertido.)**\n",
      "\n",
      "Al final de la fiesta, todos dicen: \"¡Gracias!\" **(Gracias = Thank you)** Santiago y María están contentos. **(están contentos = are happy)** \n",
      "\n",
      "**Fin.**\n",
      "\n",
      "---\n",
      "\n",
      "**Vocabulario Clave:**\n",
      "- Fiesta = Party\n",
      "- Amigos = Friends\n",
      "- Comida = Food\n",
      "- Dulces = Sweets\n",
      "- Jugar = To play\n",
      "- Decoraciones = Decorations\n",
      "\n",
      "**Recuerda:** Las fiestas son momentos para compartir y divertirse con amigos. Puedes usar este vocabulario en tus próximas celebraciones. ¡Practica y diviértete!\n"
     ]
    }
   ],
   "source": [
    "print(result.messages[1].content)"
   ]
  }
 ],
 "metadata": {
  "kernelspec": {
   "display_name": "living_story",
   "language": "python",
   "name": "python3"
  },
  "language_info": {
   "codemirror_mode": {
    "name": "ipython",
    "version": 3
   },
   "file_extension": ".py",
   "mimetype": "text/x-python",
   "name": "python",
   "nbconvert_exporter": "python",
   "pygments_lexer": "ipython3",
   "version": "3.12.9"
  }
 },
 "nbformat": 4,
 "nbformat_minor": 2
}
